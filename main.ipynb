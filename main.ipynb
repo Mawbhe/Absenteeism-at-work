{
 "cells": [
  {
   "cell_type": "markdown",
   "id": "933ad364",
   "metadata": {},
   "source": [
    "# Projet data mining  \n",
    "#### Sujet : Analyse et prédiction de l'absenteisme au travail.\n",
    "###### BUT SD 23-24\n",
    "\n",
    "Algassimou DIALLO"
   ]
  },
  {
   "cell_type": "markdown",
   "id": "ff52b902",
   "metadata": {},
   "source": [
    "# Plan\n",
    "1. [Introduction](#introduction)\n",
    "2. [Prétraitement des données](#datapreprocessing)\n",
    "3. [Exploratory Data Analysis](#EDA)\n",
    "4. [Analyse en composantes principales](#PCA)\n",
    "4. [Models](#models)\n",
    "5. [Conclusion](#conclusion)\n"
   ]
  },
  {
   "cell_type": "markdown",
   "id": "39fa0481",
   "metadata": {},
   "source": [
    "### Packages"
   ]
  },
  {
   "cell_type": "code",
   "execution_count": 1,
   "id": "14d07423",
   "metadata": {},
   "outputs": [],
   "source": [
    "import pandas as pd\n",
    "import numpy as np\n",
    "import matplotlib.pyplot as plt\n",
    "import seaborn as sns\n",
    "import math\n",
    "from sklearn.preprocessing import LabelEncoder\n",
    "from sklearn.decomposition import PCA\n",
    "from sklearn.preprocessing import StandardScaler\n",
    "from sklearn.naive_bayes import GaussianNB\n",
    "from sklearn.tree import DecisionTreeClassifier,plot_tree\n",
    "from sklearn.ensemble import RandomForestClassifier\n",
    "from sklearn.model_selection import GridSearchCV\n",
    "from sklearn.model_selection import train_test_split\n",
    "from sklearn.metrics import accuracy_score, confusion_matrix, classification_report, roc_auc_score, roc_curve"
   ]
  },
  {
   "cell_type": "markdown",
   "id": "540fdcdc",
   "metadata": {},
   "source": [
    "<a name=\"datapreprocessing\"></a>\n",
    "# Prétraitement des données"
   ]
  },
  {
   "cell_type": "code",
   "execution_count": 2,
   "id": "ecae3359",
   "metadata": {
    "scrolled": true
   },
   "outputs": [],
   "source": [
    "df = pd.read_csv(\"Absenteeism_at_work.csv\", sep =\";\")\n",
    "df.head()"
   ]
  },
  {
   "cell_type": "markdown",
   "id": "43252c7a",
   "metadata": {},
   "source": [
    "- Nous avons 740 observations de 20 variables \n",
    "- Pas de NA dans les variables\n",
    "- Les types des variables semblent correctes."
   ]
  },
  {
   "cell_type": "code",
   "execution_count": 3,
   "id": "6a6f6cfd",
   "metadata": {},
   "outputs": [],
   "source": [
    "df.info()"
   ]
  },
  {
   "cell_type": "code",
   "execution_count": 4,
   "id": "7a626a7c",
   "metadata": {
    "scrolled": false
   },
   "outputs": [],
   "source": [
    "df.describe()"
   ]
  },
  {
   "cell_type": "markdown",
   "id": "cbcd0ae8",
   "metadata": {},
   "source": [
    "On remarque des \"min = 0\" pour \"Reason for absence\" et \"Month of absence\" ce qui est bizarre comparé à la documentation du dataset.\n",
    "\n",
    " - Pour la variable \"Reason for absence\" on remarque que ces valeurs nulles correspondent à une \"non absence\"(l'individu n'a pas été absent) car on remarque que ces individus ont tous un taux d'absence nulle. Ces informations sont très importantes, ce ne sont pas des erreurs donc on doit garder ces lignes."
   ]
  },
  {
   "cell_type": "code",
   "execution_count": 5,
   "id": "f9a83c12",
   "metadata": {
    "scrolled": true
   },
   "outputs": [],
   "source": [
    "df[df[\"Reason for absence\"] ==0]"
   ]
  },
  {
   "cell_type": "markdown",
   "id": "52f8046a",
   "metadata": {},
   "source": [
    "- Pour la variable \"month of absence\" on remarque que ces individus ont tous un taux d'absence nul et ils ne sont qu'au nombre de 3. \n",
    "- On decide donc remplacer ces valeurs par le mois moyen des individus précédants(raison = 0 & taux d'absence = 0). "
   ]
  },
  {
   "cell_type": "code",
   "execution_count": 6,
   "id": "22635798",
   "metadata": {
    "scrolled": false
   },
   "outputs": [],
   "source": [
    "df[df[\"Month of absence\"]==0]"
   ]
  },
  {
   "cell_type": "code",
   "execution_count": 7,
   "id": "891469ba",
   "metadata": {},
   "outputs": [],
   "source": [
    "df[df[\"Reason for absence\"] ==0].mean()\n"
   ]
  },
  {
   "cell_type": "markdown",
   "id": "1ff94de5",
   "metadata": {},
   "source": [
    " - On remplace donc par le mois de Juillet (7)"
   ]
  },
  {
   "cell_type": "code",
   "execution_count": 8,
   "id": "e7d7034a",
   "metadata": {},
   "outputs": [],
   "source": [
    "df[\"Month of absence\"] = df[\"Month of absence\"].replace([0],7)\n"
   ]
  },
  {
   "cell_type": "markdown",
   "id": "f5646119",
   "metadata": {},
   "source": [
    "<a name=\"EDA\"></a>\n",
    "# Exploratory Data Analysis "
   ]
  },
  {
   "cell_type": "markdown",
   "id": "d9a50915",
   "metadata": {},
   "source": [
    "- Reason for absence & Absenteeism time"
   ]
  },
  {
   "cell_type": "markdown",
   "id": "5d7712ce",
   "metadata": {},
   "source": [
    "On remarque que la raison d'absence la plus fréquente  est la raison 23 (\"medical consultation\") suivi de 28 (\"Dental consultation\") et de 13 (\"Diseases of the musculoskeletal system and connective tissue\")"
   ]
  },
  {
   "cell_type": "code",
   "execution_count": 9,
   "id": "342bda74",
   "metadata": {},
   "outputs": [],
   "source": [
    "df.groupby('Reason for absence')['Absenteeism time in hours'].mean()"
   ]
  },
  {
   "cell_type": "markdown",
   "id": "90ebb5f7",
   "metadata": {},
   "source": [
    " #### Graphique pour mieux visualiser ces données : "
   ]
  },
  {
   "cell_type": "code",
   "execution_count": 10,
   "id": "c3aa11ef",
   "metadata": {},
   "outputs": [],
   "source": [
    "top_raison=df.groupby('Reason for absence')['Absenteeism time in hours'].count()\n",
    "top_raison=np.array(top_raison) \n",
    "fig= plt.subplots(figsize=(10,10))\n",
    "\n",
    "table=[\"no reason (0) \",'Certain infectious and parasitic diseases', 'Neoplasms', 'blood-forming organs and involving the immune mechanism', 'Endocrine, nutritional and metabolic diseases', 'Mental and behavioural disorders', 'Diseases of the nervous system', 'Diseases of the eye and adnexa', 'Diseases of the ear and mastoid process', 'Diseases of the circulatory system', 'Diseases of the respiratory system', 'Diseases of the digestive system', 'Diseases of the skin and subcutaneous tissue', 'Diseases of the musculoskeletal system and connective tissue', 'Diseases of the genitourinary system','Pregnancy, childbirth and the puerperium','Certain conditions originating in the perinatal period','Congenital malformations, deformations and chromosomal abnormalities', 'Symptoms, signs and abnormal clinical and laboratory findings', 'Injury, poisoning and certain other consequences of external causes', 'Factors influencing health status and contact with health services.','patient follow-up','medical consultation','blood donation','laboratory examination','unjustified absence','physiotherapy','dental consultation']\n",
    "\n",
    "plt.barh(y=np.arange(len(top_raison)),width=top_raison,label='No. of people',color='lightblue')\n",
    "plt.yticks(np.arange(len(top_raison)),table,rotation=0)\n",
    "\n",
    "plt.ylabel('Reason of Absence')\n",
    "plt.xlabel('Count of people')\n",
    "plt.savefig('sample.jpg')"
   ]
  },
  {
   "cell_type": "code",
   "execution_count": 11,
   "id": "45976aa1",
   "metadata": {},
   "outputs": [],
   "source": [
    "top_raison=df.groupby('Reason for absence')['Absenteeism time in hours'].mean()\n",
    "top_raison=np.array(top_raison) \n",
    "fig= plt.subplots(figsize=(10,10))\n",
    "\n",
    "table=[\"no reason (0) \",'Certain infectious and parasitic diseases', 'Neoplasms', 'blood-forming organs and involving the immune mechanism', 'Endocrine, nutritional and metabolic diseases', 'Mental and behavioural disorders', 'Diseases of the nervous system', 'Diseases of the eye and adnexa', 'Diseases of the ear and mastoid process', 'Diseases of the circulatory system', 'Diseases of the respiratory system', 'Diseases of the digestive system', 'Diseases of the skin and subcutaneous tissue', 'Diseases of the musculoskeletal system and connective tissue', 'Diseases of the genitourinary system','Pregnancy, childbirth and the puerperium','Certain conditions originating in the perinatal period','Congenital malformations, deformations and chromosomal abnormalities', 'Symptoms, signs and abnormal clinical and laboratory findings', 'Injury, poisoning and certain other consequences of external causes', 'Factors influencing health status and contact with health services.','patient follow-up','medical consultation','blood donation','laboratory examination','unjustified absence','physiotherapy','dental consultation']\n",
    "\n",
    "plt.barh(y=np.arange(len(top_raison)),width=top_raison,label='No. of people',color='lightblue')\n",
    "plt.yticks(np.arange(len(top_raison)),table,rotation=0)\n",
    "\n",
    "plt.ylabel('Reason of Absence')\n",
    "plt.xlabel(\"Mean absenteeism time\")"
   ]
  },
  {
   "cell_type": "markdown",
   "id": "6415fb35",
   "metadata": {},
   "source": [
    "- Month of absence & Absenteeism"
   ]
  },
  {
   "cell_type": "markdown",
   "id": "a9e209c6",
   "metadata": {},
   "source": [
    "Le mois de Mars compte le plus d'absences suivi de Février et Octobre.\n",
    "Ce qui est compréhensible car le mois de Mars est le mois des \"festival\" au Brésil.(festival de rio)"
   ]
  },
  {
   "cell_type": "code",
   "execution_count": 12,
   "id": "1d9142d1",
   "metadata": {},
   "outputs": [],
   "source": [
    "df.groupby('Month of absence')['Absenteeism time in hours'].count()"
   ]
  },
  {
   "cell_type": "markdown",
   "id": "b73796dc",
   "metadata": {},
   "source": [
    "#### Graphique pour mieux visualiser la variation par mois."
   ]
  },
  {
   "cell_type": "code",
   "execution_count": 13,
   "id": "b7adafd5",
   "metadata": {},
   "outputs": [],
   "source": [
    "mois_absence = np.array(df.groupby('Month of absence')['Absenteeism time in hours'].mean())\n",
    "\n",
    "\n",
    "plt.bar(x=np.arange(len(mois_absence)),height=mois_absence ,color='lightblue')\n",
    "plt.xlabel('Month')\n",
    "plt.xticks(np.arange(len(mois_absence)),['JAN','FEB','MAR','APR','MAY','JUN','JUL','AUG','SEP','OCT','NOV','DEC'])\n",
    "plt.title(\"Variation du nombre d'absences par mois\")\n",
    "plt.show()"
   ]
  },
  {
   "cell_type": "markdown",
   "id": "d8498cc4",
   "metadata": {},
   "source": [
    "- Day of the week & Absenteeism time\n",
    "\n",
    "Pas de jours particulier. Le nombre d'absence est à peu près le même pour tous les jours de la semaine mais la moyenne est plus elevé le Lundi et très faible le jeudi et le vendredi."
   ]
  },
  {
   "cell_type": "code",
   "execution_count": 14,
   "id": "c4011663",
   "metadata": {},
   "outputs": [],
   "source": [
    "df.groupby('Day of the week')['Absenteeism time in hours'].count()"
   ]
  },
  {
   "cell_type": "code",
   "execution_count": 15,
   "id": "31bdfd04",
   "metadata": {
    "scrolled": false
   },
   "outputs": [],
   "source": [
    "semaines_absence = df.groupby('Day of the week')['Absenteeism time in hours'].mean()\n",
    "semaines_absence=np.array(semaines_absence)\n",
    "\n",
    "plt.bar(x=np.arange(len(semaines_absence)),height=semaines_absence,color='lightblue')\n",
    "\n",
    "plt.xlabel('Days of week')\n",
    "plt.xticks(np.arange(len(semaines_absence)),['MON','TUE','WED','THUR','FRI'])\n",
    "plt.title(\"Variation des absences en fonction des jours de la semaine\")\n",
    "plt.show()"
   ]
  },
  {
   "cell_type": "markdown",
   "id": "98715b59",
   "metadata": {},
   "source": [
    "- Son & Absenteeims time\n",
    "\n",
    "On remarque que les gens avec 2 et 3 enfants ont la durée d'absence moyenne la plus longue."
   ]
  },
  {
   "cell_type": "code",
   "execution_count": 16,
   "id": "9c457aa3",
   "metadata": {},
   "outputs": [],
   "source": [
    "df.groupby('Son')['Absenteeism time in hours'].mean()\n"
   ]
  },
  {
   "cell_type": "code",
   "execution_count": 17,
   "id": "9d77ecad",
   "metadata": {},
   "outputs": [],
   "source": [
    "absence_child = np.array(df.groupby('Son')['Absenteeism time in hours'].mean())\n",
    "\n",
    "plt.bar(x=np.arange(len(absence_child )),height=absence_child  ,color='lightblue')\n",
    "plt.xlabel(\"Nombre d'enfants\")\n",
    "plt.ylabel(\"Temps moyen d'absence\")\n",
    "plt.title(\"Temps d'absence moyen par nombre d'enfants\")\n",
    "plt.show()"
   ]
  },
  {
   "cell_type": "markdown",
   "id": "2eb3fc14",
   "metadata": {},
   "source": [
    "- Social drinker & Absenteeism time\n",
    "\n",
    "Les fumeurs ont une durée moyenne d'absence plus longue mais la différence est juste d'environ 1h."
   ]
  },
  {
   "cell_type": "code",
   "execution_count": 18,
   "id": "7b2b4dcf",
   "metadata": {},
   "outputs": [],
   "source": [
    "df.groupby('Social drinker')['Absenteeism time in hours'].mean()"
   ]
  },
  {
   "cell_type": "markdown",
   "id": "9eb097e5",
   "metadata": {},
   "source": [
    "- Social smoket & Absenteeism time\n",
    "\n",
    "Presque pas de différence"
   ]
  },
  {
   "cell_type": "code",
   "execution_count": 19,
   "id": "39d3993e",
   "metadata": {},
   "outputs": [],
   "source": [
    "df.groupby('Social smoker')['Absenteeism time in hours'].mean()"
   ]
  },
  {
   "cell_type": "code",
   "execution_count": 20,
   "id": "8a5837bd",
   "metadata": {},
   "outputs": [],
   "source": [
    "df.info()"
   ]
  },
  {
   "cell_type": "markdown",
   "id": "a8cce53a",
   "metadata": {},
   "source": [
    "- Age & Absenteeism time\n",
    "\n",
    "Pas de patterns en particuler. On remarque juste un outlier et que les indivdux dans la trentaine ont le temps moyen d'absence le plus elevé."
   ]
  },
  {
   "cell_type": "code",
   "execution_count": 21,
   "id": "84ed6a40",
   "metadata": {},
   "outputs": [],
   "source": [
    "absence_age = df.groupby('Age')['Absenteeism time in hours'].mean()\n",
    "\n",
    "absence_age.plot(kind='bar', figsize=(10,5), color=\"lightblue\" )\n",
    "plt.xlabel('Age')\n",
    "plt.ylabel('Absenteeism time in hours')\n",
    "plt.title(\"Temps d'absence moyen par age\")\n",
    "\n"
   ]
  },
  {
   "cell_type": "markdown",
   "id": "961773b2",
   "metadata": {},
   "source": [
    "#### Autre manière de visualiser les données"
   ]
  },
  {
   "cell_type": "code",
   "execution_count": 22,
   "id": "90fafd02",
   "metadata": {},
   "outputs": [],
   "source": [
    "def group_age(age):\n",
    "    if age >= 0:\n",
    "        if age % 10 != 0:\n",
    "            lower = int(math.floor(age/10.0))*10\n",
    "            upper = int(math.ceil(age/10.0))*10-1\n",
    "            return f\"{lower}-{upper}\"\n",
    "        else:\n",
    "            lower = int(age)\n",
    "            upper = int(age+9)\n",
    "            return f\"{lower}-{upper}\"\n",
    "        return np.nan \n"
   ]
  },
  {
   "cell_type": "code",
   "execution_count": 23,
   "id": "e2a292c0",
   "metadata": {},
   "outputs": [],
   "source": [
    "df1 = df.copy()\n",
    "df1[\"age_range\"] = df1[\"Age\"].apply(group_age)\n",
    "age_order=df1['age_range'].unique()\n",
    "\n",
    "\n"
   ]
  },
  {
   "cell_type": "code",
   "execution_count": 24,
   "id": "1e78402c",
   "metadata": {},
   "outputs": [],
   "source": [
    "\n",
    "sns.barplot(x='age_range',y='Absenteeism time in hours',data=df1, color=\"lightblue\")\n",
    "plt.xlabel('Age Range')\n",
    "plt.ylabel('Absenteeism time in hours')\n",
    "plt.title(\"Temps d'absence moyen par age\")\n",
    "plt.show() \n",
    "\n"
   ]
  },
  {
   "cell_type": "markdown",
   "id": "d418dece",
   "metadata": {},
   "source": [
    "- IMC et Absenteeism time in hours\n",
    "\n",
    "Pas d'énormes différences, les individus en surpoids ont le temps d'absence moyen le plus élevé."
   ]
  },
  {
   "cell_type": "code",
   "execution_count": 25,
   "id": "1e28adc6",
   "metadata": {},
   "outputs": [],
   "source": [
    "imc = [0, 18.4, 24.9, 29.9, 39.9]\n",
    "df1['bmi'] = pd.cut(df['Body mass index'], bins=imc, labels=[f'IMC {i}' for i in range(1, len(imc))])\n"
   ]
  },
  {
   "cell_type": "code",
   "execution_count": 26,
   "id": "bb041eed",
   "metadata": {},
   "outputs": [],
   "source": [
    "bmi=df1.groupby('bmi')['Absenteeism time in hours'].mean()\n",
    "plt.bar(x=np.arange(len(bmi)),height=bmi,color='lightblue')\n",
    "plt.ylabel('Absenteeism time in hours')\n",
    "plt.xticks(np.arange(len(bmi)),['Maigre','Normal','Surpoids','Obésité'],rotation=30)\n",
    "plt.title(\"Temps d'absence moyen par IMC\")\n",
    "plt.show()"
   ]
  },
  {
   "cell_type": "markdown",
   "id": "555b754d",
   "metadata": {},
   "source": [
    "### Corrélation des variables"
   ]
  },
  {
   "cell_type": "code",
   "execution_count": 27,
   "id": "8d222a4f",
   "metadata": {
    "scrolled": false
   },
   "outputs": [],
   "source": [
    "df_corr = df.drop(columns = ['ID', 'Disciplinary failure', 'Social drinker', 'Social smoker', 'Seasons', \n",
    "                            'Month of absence', 'Day of the week', 'Reason for absence', 'Education'])\n",
    "corr = df_corr.corr()\n",
    "plt.figure(figsize = (10,10))\n",
    "sns.heatmap(corr, annot = True,cmap='Blues')\n",
    "plt.title('Correlation Heatmap')"
   ]
  },
  {
   "cell_type": "markdown",
   "id": "a779f175",
   "metadata": {},
   "source": [
    "## Transformation des données: Ajout de classe d'absence (retard,normal,absenteiste)"
   ]
  },
  {
   "cell_type": "code",
   "execution_count": 28,
   "id": "e7ea7a8d",
   "metadata": {},
   "outputs": [],
   "source": [
    "df.head()"
   ]
  },
  {
   "cell_type": "code",
   "execution_count": 29,
   "id": "43b61b28",
   "metadata": {},
   "outputs": [],
   "source": [
    "\n",
    "label_encoder = LabelEncoder() \n",
    "\n",
    "df = pd.concat([df  ,pd.get_dummies(df  ['Reason for absence'], prefix = 'reason')], axis=1)\n",
    "df  = pd.concat([df  ,pd.get_dummies(df  ['Day of the week'], prefix = 'day')], axis=1)\n",
    "df  = pd.concat([df  ,pd.get_dummies(df  ['Seasons'], prefix = 'season')], axis=1)\n",
    "df = pd.concat([df  ,pd.get_dummies(df  ['Education'], prefix = 'education')], axis=1)\n",
    "\n"
   ]
  },
  {
   "cell_type": "markdown",
   "id": "1113e95e",
   "metadata": {},
   "source": [
    "### Meilleur Model RandomForest obtenu"
   ]
  },
  {
   "cell_type": "code",
   "execution_count": 30,
   "id": "6a4549ea",
   "metadata": {},
   "outputs": [],
   "source": [
    "x = df .drop(columns = ['Absenteeism time in hours'])\n",
    "y = df ['Absenteeism time in hours']\n",
    "x_train,x_test, y_train,y_test = train_test_split(x,y, train_size = 0.7, random_state = 3)\n",
    "model = RandomForestClassifier(max_depth=2, random_state=3).fit(x_train,y_train)\n",
    "y_pred = model.predict(x_test)\n",
    "accuracy = accuracy_score(y_pred,y_test) * 100\n",
    "print(accuracy)"
   ]
  },
  {
   "cell_type": "markdown",
   "id": "0daa2d91",
   "metadata": {},
   "source": [
    "### GridSearch pour avoir le best modèle."
   ]
  },
  {
   "cell_type": "code",
   "execution_count": 31,
   "id": "ea67d359",
   "metadata": {
    "scrolled": true
   },
   "outputs": [],
   "source": [
    "\"\"\"param_grid = {\n",
    "'n_estimators': [200, 500],\n",
    "'max_features': ['auto', 'sqrt', 'log2'],\n",
    "'max_depth' : [4,5,6,7,8],\n",
    "'criterion' :['gini', 'entropy']\n",
    "}\n",
    "grid = GridSearchCV(RandomForestClassifier(),param_grid,verbose = 3)\n",
    "\n",
    "grid.fit(x_train,y_train)\n",
    "\n",
    "print(grid.best_params_) \"\"\""
   ]
  },
  {
   "cell_type": "code",
   "execution_count": 32,
   "id": "214b9c73",
   "metadata": {},
   "outputs": [],
   "source": [
    "best_model = RandomForestClassifier(criterion = 'gini', max_depth = 7, max_features = 'sqrt', n_estimators = 500 )\n",
    "best_model.fit(x_train,y_train)\n",
    "y_pred = best_model.predict(x_test)\n",
    "accuracy = accuracy_score(y_test,y_pred)\n",
    "print(\"Prediction best_model: \\n\",y_pred,\"\\n\",\"Précision du modèle grid: \", accuracy) "
   ]
  },
  {
   "cell_type": "code",
   "execution_count": 33,
   "id": "470a2ad4",
   "metadata": {},
   "outputs": [],
   "source": [
    "# Retard, Normal, Absenteiste\n",
    "def niveau(absence_time):\n",
    "  if(absence_time< 2):\n",
    "    classe = 'retard'\n",
    "  elif((absence_time >= 2) and (absence_time < 24)):\n",
    "    classe = 'normal'\n",
    "  elif(absence_time >= 24):\n",
    "    classe = 'absenteiste'    \n",
    "  return classe\n",
    "\n",
    "df['classe'] = df['Absenteeism time in hours'].apply(lambda x: niveau(x)).astype('category')\n",
    "df_pca = df.copy()\n",
    "df_pca.head()"
   ]
  },
  {
   "cell_type": "code",
   "execution_count": 34,
   "id": "b6503a28",
   "metadata": {
    "scrolled": true
   },
   "outputs": [],
   "source": [
    "df_pca = df_pca .drop(columns = [\"Reason for absence\",\"Seasons\",'Day of the week',\"Height\",\"Education\",\"Absenteeism time in hours\"])\n",
    "df_pca .info()"
   ]
  },
  {
   "cell_type": "code",
   "execution_count": 35,
   "id": "aff33363",
   "metadata": {},
   "outputs": [],
   "source": [
    "y = df_pca[\"classe\"]\n",
    "df_pca = df_pca .drop(columns = [\"classe\"])\n"
   ]
  },
  {
   "cell_type": "code",
   "execution_count": 36,
   "id": "2dd9c8d1",
   "metadata": {},
   "outputs": [],
   "source": [
    "X_pca = df_pca.copy()\n",
    "\n",
    "X_pca_norm = (X_pca-X_pca.mean())/X_pca.std()\n",
    "     "
   ]
  },
  {
   "cell_type": "code",
   "execution_count": 37,
   "id": "6e30d1ba",
   "metadata": {},
   "outputs": [],
   "source": [
    "X_pca = PCA(random_state = 3).fit(X_pca_norm)\n",
    "\n",
    "\n",
    "var_cumul = np.cumsum(X_pca.explained_variance_ratio_)\n",
    "plt.plot(var_cumul)\n",
    "plt.title('Variance cumulée')\n",
    "plt.xlabel('Nombre de composantes')\n",
    "plt.ylabel('Variance expliquée')\n",
    "     \n"
   ]
  },
  {
   "cell_type": "code",
   "execution_count": 38,
   "id": "1f28970d",
   "metadata": {},
   "outputs": [],
   "source": [
    "var_cumul[31]"
   ]
  },
  {
   "cell_type": "code",
   "execution_count": 39,
   "id": "5410fd00",
   "metadata": {
    "scrolled": true
   },
   "outputs": [],
   "source": [
    "X_pca = np.dot(X_pca_norm.values, X_pca.components_[:31,:].T)\n",
    "X_pca = pd.DataFrame(X_pca, columns=[\"PC%d\" % (x + 1) for x in range(31)])\n",
    "X_pca.head()\n",
    "     \n"
   ]
  },
  {
   "cell_type": "markdown",
   "id": "32e7958c",
   "metadata": {},
   "source": [
    "<a name=\"models\"></a>\n",
    "# Models "
   ]
  },
  {
   "cell_type": "markdown",
   "id": "99f88c9a",
   "metadata": {},
   "source": [
    "#### Division du dataset en Train et Test"
   ]
  },
  {
   "cell_type": "code",
   "execution_count": 40,
   "id": "3a4f2bb8",
   "metadata": {},
   "outputs": [],
   "source": [
    "x_train, x_test, y_train, y_test = train_test_split(X_pca, y, test_size = 0.3, random_state = 3)\n"
   ]
  },
  {
   "cell_type": "markdown",
   "id": "cc995797",
   "metadata": {},
   "source": [
    "### Suréchantillonnage aléatoire "
   ]
  },
  {
   "cell_type": "code",
   "execution_count": 41,
   "id": "90a0d5d7",
   "metadata": {},
   "outputs": [],
   "source": [
    "from imblearn.over_sampling import RandomOverSampler\n",
    "x_train_s, y_train_s = RandomOverSampler(random_state = 3).fit_resample(x_train, y_train)"
   ]
  },
  {
   "cell_type": "markdown",
   "id": "45cfc9e2",
   "metadata": {},
   "source": [
    " ###  Naive Bayes\n",
    " \n",
    "On commence d'abord par un simple modèle Naive Bayes "
   ]
  },
  {
   "cell_type": "code",
   "execution_count": 42,
   "id": "32fe9d2d",
   "metadata": {
    "scrolled": false
   },
   "outputs": [],
   "source": [
    "df.info()"
   ]
  },
  {
   "cell_type": "code",
   "execution_count": 43,
   "id": "b59fccd5",
   "metadata": {},
   "outputs": [],
   "source": [
    "model_NB = GaussianNB().fit(x_train_s,y_train_s)\n"
   ]
  },
  {
   "cell_type": "code",
   "execution_count": 44,
   "id": "ce299b86",
   "metadata": {},
   "outputs": [],
   "source": [
    "y_pred = model_NB.predict(x_test)\n",
    "accuracy = accuracy_score(y_test, y_pred) * 100\n",
    "print(accuracy)"
   ]
  },
  {
   "cell_type": "code",
   "execution_count": 45,
   "id": "59674d33",
   "metadata": {},
   "outputs": [],
   "source": [
    "cm = confusion_matrix(y_test,y_pred)\n",
    "\n",
    "\n",
    "# Plot confusion matrix using seaborn\n",
    "plt.figure(figsize=(8, 6))\n",
    "sns.heatmap(cm, annot=True, fmt=\"d\", cmap=\"Blues\", xticklabels=[\"Class 0\", \"Class 1\", \"Class 2\"], yticklabels=[\"Class 0\", \"Class 1\", \"Class 2\"])\n",
    "plt.xlabel('Predicted')\n",
    "plt.ylabel('True')\n",
    "plt.title('Confusion Matrix')\n",
    "plt.show()"
   ]
  },
  {
   "cell_type": "code",
   "execution_count": 46,
   "id": "c1b5588d",
   "metadata": {},
   "outputs": [],
   "source": [
    "\n",
    "#rapport de classification\n",
    "print(\"Rapport de classification:\\n \",classification_report(y_test,y_pred))\n"
   ]
  },
  {
   "cell_type": "markdown",
   "id": "59211c19",
   "metadata": {},
   "source": [
    "### Modèle de Decison Tree"
   ]
  },
  {
   "cell_type": "code",
   "execution_count": 47,
   "id": "c0be9bfe",
   "metadata": {},
   "outputs": [],
   "source": [
    "model = DecisionTreeClassifier(criterion = \"gini\" ).fit(x_train_s,y_train_s)"
   ]
  },
  {
   "cell_type": "code",
   "execution_count": 48,
   "id": "185d5aa7",
   "metadata": {},
   "outputs": [],
   "source": [
    "y_pred = model.predict(x_test)\n",
    "accuracy = accuracy_score(y_pred,y_test) * 100\n",
    "print(accuracy)\n"
   ]
  },
  {
   "cell_type": "code",
   "execution_count": 49,
   "id": "f1d1b1cd",
   "metadata": {},
   "outputs": [],
   "source": [
    "plt.figure(figsize=(100,70)) \n",
    "plot_tree(model, fontsize=8)\n",
    "plt.show()"
   ]
  },
  {
   "cell_type": "code",
   "execution_count": 50,
   "id": "795f82d5",
   "metadata": {},
   "outputs": [],
   "source": [
    "cm = confusion_matrix(y_test,y_pred)\n",
    "print(cm)\n",
    "\n",
    "\n",
    "plt.figure(figsize=(8, 6))\n",
    "sns.heatmap(cm, annot=True, fmt=\"d\", cmap=\"Blues\")\n",
    "plt.xlabel('Predicted')\n",
    "plt.ylabel('True')\n",
    "plt.title('Confusion Matrix')\n",
    "plt.show()"
   ]
  },
  {
   "cell_type": "code",
   "execution_count": 51,
   "id": "cd6e2346",
   "metadata": {
    "scrolled": true
   },
   "outputs": [],
   "source": [
    "print(\"Rapport de classification:\\n \",classification_report(y_test,y_pred))"
   ]
  }
 ],
 "metadata": {
  "kernelspec": {
   "display_name": "Python 3 (ipykernel)",
   "language": "python",
   "name": "python3"
  },
  "language_info": {
   "codemirror_mode": {
    "name": "ipython",
    "version": 3
   },
   "file_extension": ".py",
   "mimetype": "text/x-python",
   "name": "python",
   "nbconvert_exporter": "python",
   "pygments_lexer": "ipython3",
   "version": "3.10.13"
  }
 },
 "nbformat": 4,
 "nbformat_minor": 5
}
